{
 "cells": [
  {
   "cell_type": "markdown",
   "id": "3dd1caf6-8f94-4bd0-a858-249fd6ef5f76",
   "metadata": {},
   "source": [
    "<h4>Problem 1.</h4> \n",
    "Assume you are given a list of points as follows:(2,2,2),(3,3,3),(4,4,4),(6,0,0),(0,6,0),(0,0,6).\n",
    "Write two functions, findMean and findStd, in Python that return the mean and the standard\n",
    "deviation of these points, respectively. Generalize your functions to accept a list of different\n",
    "number of points."
   ]
  },
  {
   "cell_type": "code",
   "execution_count": 68,
   "id": "70a655f9-5632-4f9b-96f4-8b9055c1a03e",
   "metadata": {},
   "outputs": [
    {
     "name": "stdout",
     "output_type": "stream",
     "text": [
      "Mean: (2.5, 2.5, 2.5)\n",
      "Standard Deviation: 2.140872096444188\n"
     ]
    }
   ],
   "source": [
    "def findMean(points):\n",
    "    \"\"\"\n",
    "    Calculate the mean of a list of points.\n",
    "    \n",
    "    :param points (list of tuples): A list where each tuple represents a point in N-dimensional space.\n",
    "    \n",
    "    :return tuple: A tuple representing the mean point.\n",
    "    \"\"\"\n",
    "    if not points:\n",
    "        return None  # Return None if the list is empty\n",
    "\n",
    "    # Initialize a list to store the sum of each dimension\n",
    "    dim_sum = [0] * len(points[0])\n",
    "    \n",
    "    for point in points:\n",
    "        for i, value in enumerate(point):\n",
    "            dim_sum[i] += value\n",
    "    \n",
    "    mean_point = tuple(dim / len(points) for dim in dim_sum)\n",
    "    return mean_point\n",
    "\n",
    "\n",
    "def findStd(points, mean_point):\n",
    "    \"\"\"\n",
    "    Calculate the standard deviation of a list of points.\n",
    "    \n",
    "    :param points (list of tuples): A list where each tuple represents a point in N-dimensional space.\n",
    "    mean_point (tuple): The mean point of the points list, as calculated by findMean.\n",
    "    \n",
    "    :return float: The standard deviation of the points.\n",
    "    \"\"\"\n",
    "    if not points:\n",
    "        return None  # Return None if the list is empty\n",
    "    \n",
    "    num_points = len(points)\n",
    "    dim = len(points[0])\n",
    "    variance_sum = 0\n",
    "    \n",
    "    for point in points:\n",
    "        # Calculate the squared distance from the mean for each point\n",
    "        squared_distance = sum((point[i] - mean_point[i]) ** 2 for i in range(dim))\n",
    "        variance_sum += squared_distance\n",
    "    \n",
    "    # The variance is the average of the squared distances\n",
    "    variance = variance_sum / (num_points * dim)\n",
    "    \n",
    "    # Standard deviation is the square root of variance\n",
    "    # Since we cannot use an in-built sqrt function, we'll use exponentiation with 0.5\n",
    "    std_dev = variance ** 0.5\n",
    "    return std_dev\n",
    "\n",
    "points = [(2,2,2), (3,3,3), (4,4,4), (6,0,0), (0,6,0), (0,0,6)]\n",
    "mean_point = findMean(points)\n",
    "std_dev = findStd(points, mean_point)\n",
    "\n",
    "print(f\"Mean: {mean_point}\")\n",
    "print(f\"Standard Deviation: {std_dev}\")"
   ]
  },
  {
   "cell_type": "markdown",
   "id": "19ca28e3-f99f-4a26-b8a4-01472863fb95",
   "metadata": {},
   "source": [
    "<h4>Problem 2. Write a Python function, InnerP roduct, to accept two lists (representing vectors) as\n",
    "arguments and return their inner (dot) product.</h4>"
   ]
  },
  {
   "cell_type": "code",
   "execution_count": 74,
   "id": "73e8d193-35d8-4ef1-bb8e-5755d28533c8",
   "metadata": {},
   "outputs": [
    {
     "name": "stdout",
     "output_type": "stream",
     "text": [
      "(2.5, 2.5, 2.5)\n",
      "2.140872096444188\n"
     ]
    }
   ],
   "source": [
    "def findMean(points):\n",
    "    if not points: return None\n",
    "\n",
    "    dim_sum = [0] * len(points[0])\n",
    "\n",
    "    for point in points:\n",
    "        for idx, val in enumerate(point):\n",
    "            dim_sum[idx] += val\n",
    "\n",
    "    mean_point = tuple(dim / len(points) for dim in dim_sum)\n",
    "\n",
    "    return mean_point\n",
    "\n",
    "def findStd(points, mean_point):\n",
    "    if not points: return None\n",
    "\n",
    "    num_points = len(points)\n",
    "    dim = len(points[0])\n",
    "    variance = 0\n",
    "\n",
    "    for point in points:\n",
    "        squared_distance = sum((point[i] -  mean_point[i]) ** 2 for i in range(dim))\n",
    "        variance += squared_distance\n",
    "\n",
    "    variance_sum = variance / (num_points * dim)\n",
    "    std_dev = variance_sum ** 0.5\n",
    "    return std_dev\n",
    "    \n",
    "\n",
    "points = [(2,2,2), (3,3,3), (4,4,4), (6,0,0), (0,6,0), (0,0,6)]\n",
    "mean_point = findMean(points)\n",
    "print(mean_point)\n",
    "std_dev = findStd(points, mean_point)\n",
    "print(std_dev)"
   ]
  },
  {
   "cell_type": "code",
   "execution_count": null,
   "id": "18dd080f-aede-47c1-b189-9ed6c4073018",
   "metadata": {},
   "outputs": [],
   "source": [
    "def InnerProduct(vector1, vector2):\n",
    "    \"\"\"\n",
    "    Calculate the inner (dot) product of two vectors.\n",
    "    \n",
    "    :param vector1 (list of numbers): The first vector.\n",
    "    :param vector2 (list of numbers): The second vector.\n",
    "    \n",
    "    :return number: The inner product of the two vectors.\n",
    "    \n",
    "    :raise ValueError: If the vectors are of different lengths.\n",
    "    \"\"\"\n",
    "    if len(vector1) != len(vector2):\n",
    "        raise ValueError(\"Vectors must be of the same length.\")\n",
    "    \n",
    "    # Calculate the sum of products of corresponding elements\n",
    "    dot_product = sum(a * b for a, b in zip(vector1, vector2))\n",
    "    return dot_product\n",
    "\n",
    "vector1 = [7.3, 5]\n",
    "vector2 = [7.1, 5]\n",
    "\n",
    "print(f\"Inner Product: {InnerProduct(vector1, vector2)}\")"
   ]
  },
  {
   "cell_type": "markdown",
   "id": "62ffaf54-c466-4a8f-9ddc-00e5f229ded9",
   "metadata": {},
   "source": [
    "<h4>Problem 3.</h4> \n",
    "Social Security Administration keeps track of the names of both boys and girls born in\n",
    "the United States. Our goal is to find the most popular boy name and a girl name for each of\n",
    "these years.\n",
    "You are provided with a file that contains data from 1880 to 2008 for both genders. This file has\n",
    "four columns: year, name, percent and gender. The percent column represents the percentage\n",
    "of babies born that year who had that name. The rows of the file are randomly shuffled. Write\n",
    "Python code to answer the following questions:"
   ]
  },
  {
   "cell_type": "code",
   "execution_count": null,
   "id": "e6dee803-cc0b-49da-abf5-03652268c42b",
   "metadata": {},
   "outputs": [],
   "source": [
    "def find_most_popular_names(filename, gender):\n",
    "    \"\"\"\n",
    "    Find the most popular boy name and its percentage for each year.\n",
    "\n",
    "    :param filename (str): The path to the data file.\n",
    "\n",
    "    :return dict: A dictionary where keys are years and values are tuples containing the most popular boy name\n",
    "          and its corresponding percentage for those years.\n",
    "    \"\"\"\n",
    "    # Initialize a dictionary to hold the most popular name and its percentage per year\n",
    "    popular_names_by_year = {}\n",
    "\n",
    "    # Open the file and process each line, skipping the header\n",
    "    with open(filename, 'r') as file:\n",
    "        next(file)  # Skip the header line\n",
    "        for line in file:\n",
    "            line = line.strip()\n",
    "            # Handle possible quotes around the values\n",
    "            year, name, percent, sex = [x.strip('\"') for x in line.split(',')]\n",
    "            year = int(year)\n",
    "            percent = float(percent)\n",
    "\n",
    "            # Filter for boys\n",
    "            if sex == gender:\n",
    "                # If the year is not in the dictionary or if this name's percent is higher than the current, update it\n",
    "                if year not in popular_names_by_year or percent > popular_names_by_year[year][1]:\n",
    "                    popular_names_by_year[year] = (name, percent)\n",
    "    \n",
    "    return popular_names_by_year\n",
    "\n",
    "def print_most_popular_names(filename, gender):\n",
    "    most_popular_names = find_most_popular_names(filename, gender)\n",
    "    for year in sorted(most_popular_names.keys()):\n",
    "        name, percent = most_popular_names[year]\n",
    "        print(f\"{year}: {name} ({percent*100:.2f}%)\")\n",
    "\n",
    "filename = 'baby-names-data.txt'"
   ]
  },
  {
   "cell_type": "markdown",
   "id": "718d0aef-9063-41f8-b214-0ae5551ce8cb",
   "metadata": {},
   "source": [
    "<h5>(a) The most popular boy name for each year between 1880 and 2008.</h5>"
   ]
  },
  {
   "cell_type": "code",
   "execution_count": null,
   "id": "1d57a24a-f51f-495e-a137-b789fdf6d9da",
   "metadata": {},
   "outputs": [],
   "source": [
    "print_most_popular_names(filename, 'boy')"
   ]
  },
  {
   "cell_type": "code",
   "execution_count": null,
   "id": "e2f8b764-bec1-4714-aba4-b96e4d1b748a",
   "metadata": {},
   "outputs": [],
   "source": [
    "print_most_popular_names(filename, 'girl')"
   ]
  },
  {
   "cell_type": "markdown",
   "id": "a2432c11-2a6d-4906-981c-4aa28e368cff",
   "metadata": {},
   "source": [
    "<h5>(c) The most popular name across all these years for both boys and girls based on the per-\n",
    "centage of the population that has had that name.</h5>"
   ]
  },
  {
   "cell_type": "code",
   "execution_count": null,
   "id": "f1bdc7a1-84a5-49d8-af84-1b2f73cd29e1",
   "metadata": {},
   "outputs": [],
   "source": [
    "def find_most_popular_names_overall(filename):\n",
    "    \"\"\"\n",
    "    Find the most popular names across all years for both boys and girls based on the\n",
    "    highest percentage of the population that has had those names.\n",
    "\n",
    "    :param filename (str): The path to the data file.\n",
    "\n",
    "    :return dict: A dictionary with 'boy' and 'girl' as keys and tuples containing the most popular name\n",
    "          and its corresponding percentage for each gender.\n",
    "    \"\"\"\n",
    "    most_popular_names = {'boy': (None, 0.0), 'girl': (None, 0.0)}\n",
    "\n",
    "    with open(filename, 'r') as file:\n",
    "        next(file)  # Skip the header line\n",
    "        for line in file:\n",
    "            line = line.strip()\n",
    "            _, name, percent, sex = [x.strip('\"') for x in line.split(',')]\n",
    "            percent = float(percent)\n",
    "\n",
    "            if sex == 'boy' and percent > most_popular_names['boy'][1]:\n",
    "                most_popular_names['boy'] = (name, percent)\n",
    "            elif sex == 'girl' and percent > most_popular_names['girl'][1]:\n",
    "                most_popular_names['girl'] = (name, percent)\n",
    "    \n",
    "    return most_popular_names\n",
    "\n",
    "most_popular_names = find_most_popular_names_overall(filename)\n",
    "for gender, (name, percent) in most_popular_names.items():\n",
    "    print(f\"The most popular {gender} name across all years: {name} ({percent * 100:.2f}%)\")"
   ]
  }
 ],
 "metadata": {
  "kernelspec": {
   "display_name": "Python 3 (ipykernel)",
   "language": "python",
   "name": "python3"
  },
  "language_info": {
   "codemirror_mode": {
    "name": "ipython",
    "version": 3
   },
   "file_extension": ".py",
   "mimetype": "text/x-python",
   "name": "python",
   "nbconvert_exporter": "python",
   "pygments_lexer": "ipython3",
   "version": "3.11.4"
  }
 },
 "nbformat": 4,
 "nbformat_minor": 5
}
